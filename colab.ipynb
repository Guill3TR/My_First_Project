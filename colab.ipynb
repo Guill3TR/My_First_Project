{
 "cells": [
  {
   "cell_type": "markdown",
   "metadata": {},
   "source": [
    "FIRST STEPS WITH PYTHON"
   ]
  },
  {
   "cell_type": "code",
   "execution_count": 11,
   "metadata": {},
   "outputs": [
    {
     "data": {
      "text/plain": [
       "'Hi Guille!'"
      ]
     },
     "execution_count": 11,
     "metadata": {},
     "output_type": "execute_result"
    }
   ],
   "source": [
    "name = \"Guille\"\n",
    "\n",
    "\"Hi \" + name + \"!\""
   ]
  },
  {
   "cell_type": "code",
   "execution_count": 10,
   "metadata": {},
   "outputs": [
    {
     "name": "stdout",
     "output_type": "stream",
     "text": [
      "Hi\n"
     ]
    }
   ],
   "source": [
    "should_i_print = 2 > 1\n",
    "\n",
    "true = \"Hi\"\n",
    "false = \"bye\"\n",
    "\n",
    "if should_i_print:\n",
    "    print(true)\n",
    "else:\n",
    "    print(false)"
   ]
  },
  {
   "cell_type": "code",
   "execution_count": 14,
   "metadata": {},
   "outputs": [
    {
     "name": "stdout",
     "output_type": "stream",
     "text": [
      "[1, 4, 9, 16, 25]\n"
     ]
    }
   ],
   "source": [
    "my_list = [1, 2, 3, 4, 5] #Se define la lista original my_list que contiene los valores del 1 al 5\n",
    "\n",
    "my_new_list = [] #Se crea una lista vacía llamada my_new_list para almacenar los resultados\n",
    "for element in my_list: #Se inicia un bucle for que recorre cada elemento en my_list\n",
    "  my_new_element = element ** 2 #Dentro del bucle, se eleva al cuadrado cada elemento. El resultado se almacena en la variable my_new_element\n",
    "  my_new_list.append(my_new_element) #El valor de my_new_element se agrega a la lista my_new_list mediante el método append()\n",
    "\n",
    "print(my_new_list)"
   ]
  },
  {
   "cell_type": "markdown",
   "metadata": {},
   "source": [
    "ABSTRACTIONS = FUNCTIONS"
   ]
  },
  {
   "cell_type": "code",
   "execution_count": 2,
   "metadata": {},
   "outputs": [],
   "source": [
    "def say_hello(name):\n",
    "    greet = \"Hi \" + name + \"!\"\n",
    "    return greet"
   ]
  },
  {
   "cell_type": "code",
   "execution_count": 3,
   "metadata": {},
   "outputs": [
    {
     "name": "stdout",
     "output_type": "stream",
     "text": [
      "Hi Guille!\n"
     ]
    }
   ],
   "source": [
    "my_greet = say_hello(\"Guille\")\n",
    "print(my_greet)"
   ]
  },
  {
   "cell_type": "markdown",
   "metadata": {},
   "source": [
    "LOOPS"
   ]
  },
  {
   "cell_type": "code",
   "execution_count": 7,
   "metadata": {},
   "outputs": [
    {
     "name": "stdout",
     "output_type": "stream",
     "text": [
      "Hi Guille!\n",
      "Hi Alejandro!\n",
      "Hi Mate!\n"
     ]
    }
   ],
   "source": [
    "my_loop = [\"Guille\", \"Alejandro\", \"Mate\"]\n",
    "\n",
    "my_new_loop = []\n",
    "for my_name in my_loop: #my_name es todo lo que contiene my_loop\n",
    "    say_greet = \"Hi \" + my_name + \"!\"\n",
    "    my_new_loop.append(say_greet) #append agrega say_greet en la lista vacia my_new_loop\n",
    "    print(say_greet)"
   ]
  },
  {
   "cell_type": "code",
   "execution_count": 8,
   "metadata": {},
   "outputs": [
    {
     "name": "stdout",
     "output_type": "stream",
     "text": [
      "['Hi Guille!', 'Hi Alejandro!', 'Hi Mate!']\n"
     ]
    }
   ],
   "source": [
    "print(my_new_loop)"
   ]
  },
  {
   "cell_type": "markdown",
   "metadata": {},
   "source": [
    "NUMBER GUESSER"
   ]
  },
  {
   "cell_type": "code",
   "execution_count": 30,
   "metadata": {},
   "outputs": [
    {
     "name": "stdout",
     "output_type": "stream",
     "text": [
      "you won!\n"
     ]
    }
   ],
   "source": [
    "my_number = 3\n",
    "number_to_guess = 3\n",
    "\n",
    "is_my_number_higher = my_number > number_to_guess #comparamos los dos numeros ¿es mi numero mayor que el numero a adivinar?\n",
    "is_my_number_equal = my_number == number_to_guess # == sirve para preguntar si una cosa es igual a otra\n",
    "\n",
    "if is_my_number_higher:\n",
    "    print(\"is higher!\")\n",
    "else:\n",
    "    if is_my_number_equal:\n",
    "        print(\"you won!\")\n",
    "    else:\n",
    "        print(\"is lower!\")\n"
   ]
  },
  {
   "cell_type": "markdown",
   "metadata": {},
   "source": [
    "ANOTHER COMPLEX METHOD"
   ]
  },
  {
   "cell_type": "code",
   "execution_count": 22,
   "metadata": {},
   "outputs": [],
   "source": [
    "import random\n",
    "\n",
    "number_to_guess = random.randint(0, 10)\n",
    "\n",
    "def guess_this_number(my_number):\n",
    "    is_my_number_higher = my_number > number_to_guess    \n",
    "    if is_my_number_higher:\n",
    "        print(\"your number is higher!\")\n",
    "    else:\n",
    "        is_my_number_equal = my_number == number_to_guess \n",
    "        if is_my_number_equal:\n",
    "            print(\"you won!\")\n",
    "        else:\n",
    "            print(\"your number is lower!\")"
   ]
  },
  {
   "cell_type": "code",
   "execution_count": 27,
   "metadata": {},
   "outputs": [
    {
     "name": "stdout",
     "output_type": "stream",
     "text": [
      "you won!\n"
     ]
    }
   ],
   "source": [
    "guess_this_number(6)"
   ]
  },
  {
   "cell_type": "markdown",
   "metadata": {},
   "source": [
    "ROCK PAPER SCISSORS"
   ]
  },
  {
   "cell_type": "code",
   "execution_count": 57,
   "metadata": {},
   "outputs": [],
   "source": [
    "import random #importa la libreria\n",
    "\n",
    "def jugar_piedra_papel_tijeras():\n",
    "    opciones = ['piedra', 'papel', 'tijeras']\n",
    "\n",
    "    usuario = input(\"Elige piedra, papel o tijeras: \").lower() #.lower() se agrega para convertir la entrada del usuario a minúsculas\n",
    "    computadora = random.choice(opciones) #Cuando se llama a input, el programa se detiene para que el usuario ingrese datos desde la consola\n",
    "\n",
    "    print(\"Tú elegiste: \" + usuario)\n",
    "    print(\"Tú elegiste: \" + computadora)\n",
    "\n",
    "    if usuario == computadora:\n",
    "        print(\"Empatasteis\")\n",
    "    elif (usuario == 'piedra' and computadora == 'tijeras') or \\\n",
    "         (usuario == 'papel' and computadora == 'piedra') or \\\n",
    "         (usuario == 'tijeras' and computadora == 'papel'):\n",
    "        print(\"¡Ganaste!\")\n",
    "    else:\n",
    "        print(\"Perdiste :( \")"
   ]
  },
  {
   "cell_type": "code",
   "execution_count": 58,
   "metadata": {},
   "outputs": [
    {
     "name": "stdout",
     "output_type": "stream",
     "text": [
      "Tú elegiste: tijeras\n",
      "Tú elegiste: piedra\n",
      "Perdiste :( \n"
     ]
    }
   ],
   "source": [
    "jugar_piedra_papel_tijeras()"
   ]
  }
 ],
 "metadata": {
  "kernelspec": {
   "display_name": "Python 3",
   "language": "python",
   "name": "python3"
  },
  "language_info": {
   "codemirror_mode": {
    "name": "ipython",
    "version": 3
   },
   "file_extension": ".py",
   "mimetype": "text/x-python",
   "name": "python",
   "nbconvert_exporter": "python",
   "pygments_lexer": "ipython3",
   "version": "3.10.13"
  }
 },
 "nbformat": 4,
 "nbformat_minor": 2
}
