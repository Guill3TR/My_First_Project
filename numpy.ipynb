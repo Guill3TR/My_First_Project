{
 "cells": [
  {
   "cell_type": "markdown",
   "metadata": {},
   "source": [
    "# **NUMPY**"
   ]
  },
  {
   "cell_type": "code",
   "execution_count": 1,
   "metadata": {},
   "outputs": [],
   "source": [
    "import numpy as np"
   ]
  },
  {
   "cell_type": "code",
   "execution_count": 2,
   "metadata": {},
   "outputs": [
    {
     "name": "stdout",
     "output_type": "stream",
     "text": [
      "int64\n",
      "(6,)\n"
     ]
    },
    {
     "data": {
      "text/plain": [
       "(None, None)"
      ]
     },
     "execution_count": 2,
     "metadata": {},
     "output_type": "execute_result"
    }
   ],
   "source": [
    "my_list = [1, 2, 3, 4, 5, 6]\n",
    "\n",
    "my_array = np.array(my_list) #crear un array er numpy\n",
    "\n",
    "print(my_array.dtype), print(my_array.shape) #tipo y forma"
   ]
  },
  {
   "cell_type": "code",
   "execution_count": 3,
   "metadata": {},
   "outputs": [
    {
     "data": {
      "text/plain": [
       "array([ 0. ,  0.1,  0.2,  0.3,  0.4,  0.5,  0.6,  0.7,  0.8,  0.9,  1. ,\n",
       "        1.1,  1.2,  1.3,  1.4,  1.5,  1.6,  1.7,  1.8,  1.9,  2. ,  2.1,\n",
       "        2.2,  2.3,  2.4,  2.5,  2.6,  2.7,  2.8,  2.9,  3. ,  3.1,  3.2,\n",
       "        3.3,  3.4,  3.5,  3.6,  3.7,  3.8,  3.9,  4. ,  4.1,  4.2,  4.3,\n",
       "        4.4,  4.5,  4.6,  4.7,  4.8,  4.9,  5. ,  5.1,  5.2,  5.3,  5.4,\n",
       "        5.5,  5.6,  5.7,  5.8,  5.9,  6. ,  6.1,  6.2,  6.3,  6.4,  6.5,\n",
       "        6.6,  6.7,  6.8,  6.9,  7. ,  7.1,  7.2,  7.3,  7.4,  7.5,  7.6,\n",
       "        7.7,  7.8,  7.9,  8. ,  8.1,  8.2,  8.3,  8.4,  8.5,  8.6,  8.7,\n",
       "        8.8,  8.9,  9. ,  9.1,  9.2,  9.3,  9.4,  9.5,  9.6,  9.7,  9.8,\n",
       "        9.9, 10. ])"
      ]
     },
     "execution_count": 3,
     "metadata": {},
     "output_type": "execute_result"
    }
   ],
   "source": [
    "np.zeros(5) #crea un array de ceros con 5 elementos. El resultado será un array unidimensional que contiene cinco ceros.\n",
    "np.ones((5, 10)) #crear un array bidimensional de 5x10 y todos los elementos son iguales a 1.\n",
    "np.random.randint(0, 10, (5, 5)) #generar un array bidimensional de números enteros aleatorios entre 0 y 10 con dimensiones 5x5. \n",
    "\n",
    "np.arange(0, 10, 2) #array unidimensional con valores que comienzan en 0, aumentan en pasos de 2 y son menores que 10\n",
    "np.linspace(0, 10, 101) #array unidimensional de 101 elementos igualmente espaciados que van desde 0 hasta 10 (ambos inclusive) "
   ]
  },
  {
   "cell_type": "code",
   "execution_count": 4,
   "metadata": {},
   "outputs": [
    {
     "name": "stdout",
     "output_type": "stream",
     "text": [
      "CPU times: user 15 µs, sys: 6 µs, total: 21 µs\n",
      "Wall time: 24.3 µs\n"
     ]
    },
    {
     "data": {
      "text/plain": [
       "array([1., 2., 3., 4., 5., 6.])"
      ]
     },
     "execution_count": 4,
     "metadata": {},
     "output_type": "execute_result"
    }
   ],
   "source": [
    "my_array **2 #elevado al cuadrado\n",
    "\n",
    "np.sqrt(my_array ** 2) #obtengo un nuevo array pero con todos positivos, ya que se eleva al cuadrado y luego se hace la raíz cuadrada.\n",
    "\n",
    "%time np.sqrt(my_array ** 2) #cuanto tiempo tarda en ejecutar la linea de codigo"
   ]
  },
  {
   "cell_type": "markdown",
   "metadata": {},
   "source": [
    "## Array Slicing"
   ]
  },
  {
   "cell_type": "code",
   "execution_count": 5,
   "metadata": {},
   "outputs": [
    {
     "data": {
      "text/plain": [
       "array([ 1,  2,  3,  4,  5,  6,  7,  8,  9, 10, 11, 12, 13, 14, 15, 16])"
      ]
     },
     "execution_count": 5,
     "metadata": {},
     "output_type": "execute_result"
    }
   ],
   "source": [
    "my_array = np.arange(1, 17) #arange para crear un array unidimensional\n",
    "my_array #una secuencia que comienza en 1 y termina en 16 (17 no está incluido)\n"
   ]
  },
  {
   "cell_type": "code",
   "execution_count": 6,
   "metadata": {},
   "outputs": [
    {
     "data": {
      "text/plain": [
       "array([[ 1,  2,  3,  4],\n",
       "       [ 5,  6,  7,  8],\n",
       "       [ 9, 10, 11, 12],\n",
       "       [13, 14, 15, 16]])"
      ]
     },
     "execution_count": 6,
     "metadata": {},
     "output_type": "execute_result"
    }
   ],
   "source": [
    "my_array = my_array.reshape(4, 4) #reshape para cambiar la dimension\n",
    "my_array"
   ]
  },
  {
   "cell_type": "code",
   "execution_count": 7,
   "metadata": {},
   "outputs": [
    {
     "data": {
      "text/plain": [
       "array([[1, 2],\n",
       "       [5, 6]])"
      ]
     },
     "execution_count": 7,
     "metadata": {},
     "output_type": "execute_result"
    }
   ],
   "source": [
    "my_array[0:2, 0:2]"
   ]
  },
  {
   "cell_type": "code",
   "execution_count": 8,
   "metadata": {},
   "outputs": [
    {
     "data": {
      "text/plain": [
       "array([[ 1,  2],\n",
       "       [ 5,  6],\n",
       "       [ 9, 10],\n",
       "       [13, 14]])"
      ]
     },
     "execution_count": 8,
     "metadata": {},
     "output_type": "execute_result"
    }
   ],
   "source": [
    "my_array[:, 0:2] #para todas las filas solo los 2 primeros valores"
   ]
  },
  {
   "cell_type": "markdown",
   "metadata": {},
   "source": [
    "## Array Masking"
   ]
  },
  {
   "cell_type": "code",
   "execution_count": 9,
   "metadata": {},
   "outputs": [
    {
     "data": {
      "text/plain": [
       "array([[ True,  True,  True,  True],\n",
       "       [ True,  True,  True,  True],\n",
       "       [ True,  True,  True,  True],\n",
       "       [ True,  True,  True,  True]])"
      ]
     },
     "execution_count": 9,
     "metadata": {},
     "output_type": "execute_result"
    }
   ],
   "source": [
    "my_array < 40 #para ver por ejemplo mis clientes menores de 40 años"
   ]
  },
  {
   "cell_type": "code",
   "execution_count": 10,
   "metadata": {},
   "outputs": [
    {
     "data": {
      "text/plain": [
       "array([[ True,  True,  True,  True],\n",
       "       [ True,  True,  True, False],\n",
       "       [False, False, False, False],\n",
       "       [False, False, False, False]])"
      ]
     },
     "execution_count": 10,
     "metadata": {},
     "output_type": "execute_result"
    }
   ],
   "source": [
    "mask = my_array < 8\n",
    "mask"
   ]
  },
  {
   "cell_type": "code",
   "execution_count": 11,
   "metadata": {},
   "outputs": [
    {
     "data": {
      "text/plain": [
       "array([1, 2, 3, 4, 5, 6, 7])"
      ]
     },
     "execution_count": 11,
     "metadata": {},
     "output_type": "execute_result"
    }
   ],
   "source": [
    "my_array[mask]"
   ]
  },
  {
   "cell_type": "code",
   "execution_count": 12,
   "metadata": {},
   "outputs": [
    {
     "data": {
      "text/plain": [
       "4"
      ]
     },
     "execution_count": 12,
     "metadata": {},
     "output_type": "execute_result"
    }
   ],
   "source": [
    "len(my_array) #como mi array es bidimensional, la longitud la hace sobre el primer eje\n",
    "              #con .shape veo la dimension de mi array"
   ]
  },
  {
   "cell_type": "markdown",
   "metadata": {},
   "source": [
    "## The Alien Invasion!"
   ]
  },
  {
   "cell_type": "code",
   "execution_count": 13,
   "metadata": {},
   "outputs": [],
   "source": [
    "import numpy as np\n",
    "\n",
    "\n",
    "fleet_data = np.array([\n",
    "    [120, 40, 25, 2.5, 10],\n",
    "    [85, 60, 30, 5.0, 5],\n",
    "    [100, 50, 35, 4.5, 7],\n",
    "    [120, 40, 25, 2.5, 9],\n",
    "    [150, 50, 30, 3.0, 10],\n",
    "], dtype=np.float32)"
   ]
  },
  {
   "cell_type": "code",
   "execution_count": 14,
   "metadata": {},
   "outputs": [
    {
     "data": {
      "text/plain": [
       "5"
      ]
     },
     "execution_count": 14,
     "metadata": {},
     "output_type": "execute_result"
    }
   ],
   "source": [
    "#numero de naves espaciales (ejercicio 1)\n",
    "total_spaceship = len(fleet_data) #calcula la longitud de la primera fila\n",
    "total_spaceship"
   ]
  },
  {
   "cell_type": "code",
   "execution_count": 15,
   "metadata": {},
   "outputs": [
    {
     "data": {
      "text/plain": [
       "158600.0"
      ]
     },
     "execution_count": 15,
     "metadata": {},
     "output_type": "execute_result"
    }
   ],
   "source": [
    "#ejercicio 2\n",
    "lenght_colum = fleet_data[:, 0] #para todas las filas solo la primera columna\n",
    "width_colum = fleet_data[:, 1] #para todas las filas solo la segunda columna\n",
    "heigh_colum = fleet_data[:, 2] #para todas las filas solo la tercera columna\n",
    "\n",
    "average_spaceship_volum = lenght_colum * width_colum * heigh_colum\n",
    "average_spaceship_volum.mean() #mean hace la media"
   ]
  },
  {
   "cell_type": "code",
   "execution_count": 16,
   "metadata": {},
   "outputs": [
    {
     "data": {
      "text/plain": [
       "(5.0, 2.5, 3.5)"
      ]
     },
     "execution_count": 16,
     "metadata": {},
     "output_type": "execute_result"
    }
   ],
   "source": [
    "#ejercicio 3\n",
    "speed_colum = fleet_data[:, 3]\n",
    "np.max(speed_colum), np.min(speed_colum), np.mean(speed_colum)"
   ]
  },
  {
   "cell_type": "code",
   "execution_count": 17,
   "metadata": {},
   "outputs": [
    {
     "data": {
      "text/plain": [
       "2"
      ]
     },
     "execution_count": 17,
     "metadata": {},
     "output_type": "execute_result"
    }
   ],
   "source": [
    "#ejercicio 4\n",
    "MAX_POWER = 10\n",
    "weapon_power_column = fleet_data[:, 4]\n",
    "mask = weapon_power_column == MAX_POWER #creo la mascara para definir que si es == 10 es True y sino False\n",
    "\n",
    "np.count_nonzero(mask) #dado que la máscara tiene valores True y False, np.count_nonzero() cuenta cuántos elementos son True"
   ]
  },
  {
   "cell_type": "code",
   "execution_count": 18,
   "metadata": {},
   "outputs": [],
   "source": [
    "#ejercicio 5\n",
    "MAX_POWER = 10\n",
    "weapon_power_column\n",
    "mask = weapon_power_column == MAX_POWER"
   ]
  },
  {
   "cell_type": "code",
   "execution_count": 19,
   "metadata": {},
   "outputs": [
    {
     "data": {
      "text/plain": [
       "(array([ True, False, False, False,  True]),\n",
       " array([2.5, 5. , 4.5, 2.5, 3. ], dtype=float32))"
      ]
     },
     "execution_count": 19,
     "metadata": {},
     "output_type": "execute_result"
    }
   ],
   "source": [
    "mask, speed_colum"
   ]
  },
  {
   "cell_type": "markdown",
   "metadata": {},
   "source": [
    "## TIC TAC TOE GAME"
   ]
  },
  {
   "cell_type": "code",
   "execution_count": 20,
   "metadata": {},
   "outputs": [],
   "source": [
    "import numpy as np\n",
    "\n",
    "class TicTacToe:\n",
    "    def __init__(self) -> None:\n",
    "        #creamos un tablero vacio de dimension 3x3\n",
    "        #el jugador X va a empezar el juego\n",
    "    \n",
    "        self.board = np.zeros((3, 3), dtype=np.int8)\n",
    "        self.current_player = 1  # 1 representa jugador X, -1 representa jugador O\n",
    "    \n",
    "    def display_board(self) -> None:\n",
    "        #muestra el estado actual del tablero del juego\n",
    "\n",
    "        print(self.board)\n",
    "\n",
    "    def make_move(self, row: int, col: int) -> None:\n",
    "        #crea un movimiento en el tablero en una columna y fila especifica\n",
    "\n",
    "        #Parameters:\n",
    "        #row (int): The row index.\n",
    "        #col(int): The colum index\n",
    "\n",
    "        pass\n",
    "    def check_winner(self) -> int:\n",
    "        pass\n",
    "    def check_row(self, row: np.ndarray) -> int:\n",
    "        pass\n",
    "    def is_board_full(self) -> bool:\n",
    "        return np.all(self.board !=0)\n"
   ]
  },
  {
   "cell_type": "code",
   "execution_count": null,
   "metadata": {},
   "outputs": [],
   "source": [
    "#Ejemplo de Uso\n",
    "tic_tac_toe_game = TicTacToe()\n",
    "\n",
    "while True:\n",
    "    tic_tac_toe_game.display_board\n",
    "\n",
    "    row = int(input(\"Enter row (0, 1, or 2): \"))\n",
    "    col = int(input(\"Enter column (0, 1, or 2): \"))\n",
    "\n",
    "    #para hacer un movimiento:\n",
    "    tic_tac_toe_game.make_move(row, col)\n",
    "\n",
    "    #para verificar quien es el ganador:\n",
    "    winner = tic_tac_toe_game.check_winner()\n",
    "    if winner:\n",
    "        tic_tac_toe_game.display_board()\n",
    "        print(f\"Player {winner} wins!\")\n",
    "        break\n",
    "\n",
    "    #en el caso de que sea empate:\n",
    "    if tic_tac_toe_game.is_board_full():\n",
    "        tic_tac_toe_game.display_board()\n",
    "        print(\"Its a tie!\")\n",
    "        break\n",
    "\n",
    "    #para cambiar al siguiente jugador:\n",
    "    tic_tac_toe_game.current_player *= -1 #transforma 1 a -1 y -1 a 1"
   ]
  }
 ],
 "metadata": {
  "kernelspec": {
   "display_name": "Python 3",
   "language": "python",
   "name": "python3"
  },
  "language_info": {
   "codemirror_mode": {
    "name": "ipython",
    "version": 3
   },
   "file_extension": ".py",
   "mimetype": "text/x-python",
   "name": "python",
   "nbconvert_exporter": "python",
   "pygments_lexer": "ipython3",
   "version": "3.11.5"
  }
 },
 "nbformat": 4,
 "nbformat_minor": 2
}
